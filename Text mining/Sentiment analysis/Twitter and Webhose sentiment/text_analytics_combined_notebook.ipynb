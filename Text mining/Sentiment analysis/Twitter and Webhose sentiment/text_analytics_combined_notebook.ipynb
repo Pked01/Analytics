{
 "cells": [
  {
   "cell_type": "code",
   "execution_count": 1,
   "metadata": {
    "ExecuteTime": {
     "end_time": "2018-01-05T12:05:43.969038Z",
     "start_time": "2018-01-05T12:05:38.826739Z"
    }
   },
   "outputs": [
    {
     "name": "stdout",
     "output_type": "stream",
     "text": [
      "load params\n",
      "loading model\n",
      "creating tensorflow session\n",
      "create model\n",
      "embd function\n",
      "loading Parameters\n",
      "create mlstm\n",
      "loading Parameters\n",
      "loading Parameters\n",
      "loading Parameters\n",
      "loading Parameters\n",
      "loading Parameters\n",
      "loading Parameters\n",
      "loading Parameters\n",
      "loading Parameters\n",
      "loading Parameters\n",
      "fully connected layer creation\n",
      "loading Parameters\n",
      "loading Parameters\n"
     ]
    }
   ],
   "source": [
    "from text_analytics_fns import *\n",
    "%matplotlib inline"
   ]
  },
  {
   "cell_type": "markdown",
   "metadata": {},
   "source": [
    "### trending topics"
   ]
  },
  {
   "cell_type": "code",
   "execution_count": 11,
   "metadata": {
    "ExecuteTime": {
     "end_time": "2018-01-04T18:41:31.152277Z",
     "start_time": "2018-01-04T18:41:30.763610Z"
    }
   },
   "outputs": [
    {
     "name": "stdout",
     "output_type": "stream",
     "text": [
      "bangalore 23424848\n"
     ]
    },
    {
     "data": {
      "text/plain": [
       "['happybirthdaydeepikapadukone',\n",
       " 'tukdetukdegang',\n",
       " 'iplretention',\n",
       " 'tskpressmeet',\n",
       " 'kerpun',\n",
       " 'kabul',\n",
       " 'rs',\n",
       " 'specialwatchlist',\n",
       " 'manmohansingh',\n",
       " 'bbmuseum',\n",
       " 'learningtolovenehru',\n",
       " 'keralacm',\n",
       " 'quickheal',\n",
       " 'mountbb',\n",
       " 'jodhpur',\n",
       " 'karnatakacm',\n",
       " 'dalit',\n",
       " 'rajyasabha',\n",
       " 'umarkhalid',\n",
       " 'talaqbilldivorced',\n",
       " 'htanalysis',\n",
       " 'terebina',\n",
       " 'imaikkaanodigal',\n",
       " 'busstrike',\n",
       " 'savsind',\n",
       " 'awdvmum',\n",
       " 'toiwriteindia',\n",
       " 'transport',\n",
       " 'eeda',\n",
       " 'maharashtrabandh',\n",
       " 'thursdaythoughts',\n",
       " 'kulbhushanjadhav',\n",
       " 'bhimakoregaonviolence',\n",
       " 'tiktiktikaudiolaunch',\n",
       " 'baaghi',\n",
       " 'fodderscam',\n",
       " 'hubahu',\n",
       " 'takeastep',\n",
       " 'yaarivan',\n",
       " 'kejriwal',\n",
       " 'aweteaser',\n",
       " 'ezeeresolution',\n",
       " 'deepakrao',\n",
       " 'dhaadikaara',\n",
       " 'nayasaalwithearlysalary',\n",
       " 'mybirthdaysongtrailer',\n",
       " 'hbddeependerhooda',\n",
       " 'natchathiravizha',\n",
       " 'marol',\n",
       " 'thalapathy']"
      ]
     },
     "execution_count": 11,
     "metadata": {},
     "output_type": "execute_result"
    }
   ],
   "source": [
    "get_twitter_trend('bangalore')"
   ]
  },
  {
   "cell_type": "markdown",
   "metadata": {},
   "source": [
    "## Blog/news analytics\n",
    "### getting webhose(blog/news data)  \n",
    "### preprocessing them"
   ]
  },
  {
   "cell_type": "markdown",
   "metadata": {},
   "source": [
    "### realtime data\n",
    "##### loading realtime news/blog data"
   ]
  },
  {
   "cell_type": "code",
   "execution_count": 2,
   "metadata": {
    "ExecuteTime": {
     "end_time": "2018-01-05T12:02:03.325108Z",
     "start_time": "2018-01-05T12:02:01.823399Z"
    }
   },
   "outputs": [
    {
     "name": "stdout",
     "output_type": "stream",
     "text": [
      "Too many requests: used 1000 out of 1000 allowed in a month\n",
      "less than 10 requests are left\n"
     ]
    }
   ],
   "source": [
    "keywords=[\"mumbai\",\"bandh\"]\n",
    "data_realtime=get_blog_data_realtime(keyword=keywords)"
   ]
  },
  {
   "cell_type": "markdown",
   "metadata": {},
   "source": [
    "### historical data\n",
    "##### loading historical news/blog data"
   ]
  },
  {
   "cell_type": "code",
   "execution_count": 2,
   "metadata": {
    "ExecuteTime": {
     "end_time": "2018-01-05T12:05:46.947348Z",
     "start_time": "2018-01-05T12:05:43.973625Z"
    }
   },
   "outputs": [
    {
     "name": "stdout",
     "output_type": "stream",
     "text": [
      "Too many requests: used 1000 out of 1000 allowed in a month\n",
      "less than 10 requests are left\n"
     ]
    }
   ],
   "source": [
    "keywords=[\"mumbai\",\"bandh\"]\n",
    "data_historical=get_blog_data_historical(keyword=keywords,timeduration=20)"
   ]
  },
  {
   "cell_type": "markdown",
   "metadata": {},
   "source": [
    "### processing sentiment \n",
    "#### on whole data"
   ]
  },
  {
   "cell_type": "code",
   "execution_count": 3,
   "metadata": {
    "ExecuteTime": {
     "end_time": "2018-01-05T12:05:52.683442Z",
     "start_time": "2018-01-05T12:05:46.950549Z"
    }
   },
   "outputs": [
    {
     "name": "stdout",
     "output_type": "stream",
     "text": [
      "(200, 29)\n",
      "(135, 30)\n"
     ]
    },
    {
     "name": "stderr",
     "output_type": "stream",
     "text": [
      "/home/ubuntu/Notebooks/NLP_and_Text_Analysis/sentiment analysis/on twitter data/text_analytics_fns.py:304: SettingWithCopyWarning: \n",
      "A value is trying to be set on a copy of a slice from a DataFrame.\n",
      "Try using .loc[row_indexer,col_indexer] = value instead\n",
      "\n",
      "See the caveats in the documentation: http://pandas.pydata.org/pandas-docs/stable/indexing.html#indexing-view-versus-copy\n",
      "  op_all['published']=pd.DatetimeIndex(op_all['published'])\n",
      "/home/ubuntu/Notebooks/NLP_and_Text_Analysis/sentiment analysis/on twitter data/text_analytics_fns.py:305: SettingWithCopyWarning: \n",
      "A value is trying to be set on a copy of a slice from a DataFrame.\n",
      "Try using .loc[row_indexer,col_indexer] = value instead\n",
      "\n",
      "See the caveats in the documentation: http://pandas.pydata.org/pandas-docs/stable/indexing.html#indexing-view-versus-copy\n",
      "  op_all['stats']=pd.DataFrame(sentiments_stat)\n",
      "/home/ubuntu/Notebooks/NLP_and_Text_Analysis/sentiment analysis/on twitter data/text_analytics_fns.py:306: SettingWithCopyWarning: \n",
      "A value is trying to be set on a copy of a slice from a DataFrame.\n",
      "Try using .loc[row_indexer,col_indexer] = value instead\n",
      "\n",
      "See the caveats in the documentation: http://pandas.pydata.org/pandas-docs/stable/indexing.html#indexing-view-versus-copy\n",
      "  op_all['median_sentiment_level']=op_all['stats'].apply(lambda x :x['overall sentiment median(+ve frequency)'])\n",
      "/home/ubuntu/Notebooks/NLP_and_Text_Analysis/sentiment analysis/on twitter data/text_analytics_fns.py:307: SettingWithCopyWarning: \n",
      "A value is trying to be set on a copy of a slice from a DataFrame.\n",
      "Try using .loc[row_indexer,col_indexer] = value instead\n",
      "\n",
      "See the caveats in the documentation: http://pandas.pydata.org/pandas-docs/stable/indexing.html#indexing-view-versus-copy\n",
      "  op_all['date']=op_all['published'].apply(lambda x: x.date())\n"
     ]
    }
   ],
   "source": [
    "data_sentiment=get_sentiment_blog(data_historical,keywords, source='blogs',take_all_data=True)"
   ]
  },
  {
   "cell_type": "markdown",
   "metadata": {},
   "source": [
    "#### on blog"
   ]
  },
  {
   "cell_type": "code",
   "execution_count": 6,
   "metadata": {
    "ExecuteTime": {
     "end_time": "2018-01-05T12:07:09.419641Z",
     "start_time": "2018-01-05T12:07:07.361677Z"
    }
   },
   "outputs": [
    {
     "name": "stdout",
     "output_type": "stream",
     "text": [
      "(200, 30)\n",
      "(36, 30)\n"
     ]
    }
   ],
   "source": [
    "data_sentiment_blog=get_sentiment_blog(data_historical,keywords, source='blogs')"
   ]
  },
  {
   "cell_type": "markdown",
   "metadata": {},
   "source": [
    "#### on news"
   ]
  },
  {
   "cell_type": "code",
   "execution_count": 7,
   "metadata": {
    "ExecuteTime": {
     "end_time": "2018-01-05T12:07:12.852814Z",
     "start_time": "2018-01-05T12:07:09.421669Z"
    }
   },
   "outputs": [
    {
     "name": "stdout",
     "output_type": "stream",
     "text": [
      "(200, 30)\n",
      "(99, 30)\n"
     ]
    }
   ],
   "source": [
    "data_sentiment_news=get_sentiment_blog(data_historical,keywords, source='news')"
   ]
  },
  {
   "cell_type": "markdown",
   "metadata": {},
   "source": [
    "### displaying blog output"
   ]
  },
  {
   "cell_type": "markdown",
   "metadata": {},
   "source": [
    "#### keywords from blogs"
   ]
  },
  {
   "cell_type": "code",
   "execution_count": 10,
   "metadata": {
    "ExecuteTime": {
     "end_time": "2018-01-05T16:22:57.577035Z",
     "start_time": "2018-01-05T16:22:57.419048Z"
    }
   },
   "outputs": [
    {
     "data": {
      "text/html": [
       "<div>\n",
       "<style scoped>\n",
       "    .dataframe tbody tr th:only-of-type {\n",
       "        vertical-align: middle;\n",
       "    }\n",
       "\n",
       "    .dataframe tbody tr th {\n",
       "        vertical-align: top;\n",
       "    }\n",
       "\n",
       "    .dataframe thead th {\n",
       "        text-align: right;\n",
       "    }\n",
       "</style>\n",
       "<table border=\"1\" class=\"dataframe\">\n",
       "  <thead>\n",
       "    <tr style=\"text-align: right;\">\n",
       "      <th></th>\n",
       "      <th>feature_names</th>\n",
       "      <th>scores</th>\n",
       "    </tr>\n",
       "  </thead>\n",
       "  <tbody>\n",
       "    <tr>\n",
       "      <th>11274</th>\n",
       "      <td>maharashtra</td>\n",
       "      <td>0.032738</td>\n",
       "    </tr>\n",
       "    <tr>\n",
       "      <th>12234</th>\n",
       "      <td>mumbai</td>\n",
       "      <td>0.030058</td>\n",
       "    </tr>\n",
       "    <tr>\n",
       "      <th>9226</th>\n",
       "      <td>india</td>\n",
       "      <td>0.024359</td>\n",
       "    </tr>\n",
       "    <tr>\n",
       "      <th>5205</th>\n",
       "      <td>dalit</td>\n",
       "      <td>0.024349</td>\n",
       "    </tr>\n",
       "    <tr>\n",
       "      <th>16204</th>\n",
       "      <td>said</td>\n",
       "      <td>0.024323</td>\n",
       "    </tr>\n",
       "    <tr>\n",
       "      <th>4908</th>\n",
       "      <td>cr</td>\n",
       "      <td>0.022689</td>\n",
       "    </tr>\n",
       "    <tr>\n",
       "      <th>16033</th>\n",
       "      <td>rs</td>\n",
       "      <td>0.021690</td>\n",
       "    </tr>\n",
       "    <tr>\n",
       "      <th>7983</th>\n",
       "      <td>government</td>\n",
       "      <td>0.020548</td>\n",
       "    </tr>\n",
       "    <tr>\n",
       "      <th>17560</th>\n",
       "      <td>state</td>\n",
       "      <td>0.020025</td>\n",
       "    </tr>\n",
       "    <tr>\n",
       "      <th>5270</th>\n",
       "      <td>dalits</td>\n",
       "      <td>0.019671</td>\n",
       "    </tr>\n",
       "    <tr>\n",
       "      <th>3338</th>\n",
       "      <td>called</td>\n",
       "      <td>0.019257</td>\n",
       "    </tr>\n",
       "    <tr>\n",
       "      <th>14843</th>\n",
       "      <td>pune</td>\n",
       "      <td>0.018644</td>\n",
       "    </tr>\n",
       "    <tr>\n",
       "      <th>9405</th>\n",
       "      <td>indian</td>\n",
       "      <td>0.017595</td>\n",
       "    </tr>\n",
       "    <tr>\n",
       "      <th>12763</th>\n",
       "      <td>news</td>\n",
       "      <td>0.017134</td>\n",
       "    </tr>\n",
       "    <tr>\n",
       "      <th>2363</th>\n",
       "      <td>bandh</td>\n",
       "      <td>0.017051</td>\n",
       "    </tr>\n",
       "    <tr>\n",
       "      <th>19641</th>\n",
       "      <td>violence</td>\n",
       "      <td>0.016953</td>\n",
       "    </tr>\n",
       "    <tr>\n",
       "      <th>505</th>\n",
       "      <td>2018</td>\n",
       "      <td>0.016481</td>\n",
       "    </tr>\n",
       "    <tr>\n",
       "      <th>3554</th>\n",
       "      <td>caste</td>\n",
       "      <td>0.016177</td>\n",
       "    </tr>\n",
       "    <tr>\n",
       "      <th>5378</th>\n",
       "      <td>day</td>\n",
       "      <td>0.015966</td>\n",
       "    </tr>\n",
       "    <tr>\n",
       "      <th>10009</th>\n",
       "      <td>january</td>\n",
       "      <td>0.015877</td>\n",
       "    </tr>\n",
       "    <tr>\n",
       "      <th>5034</th>\n",
       "      <td>crore</td>\n",
       "      <td>0.015875</td>\n",
       "    </tr>\n",
       "    <tr>\n",
       "      <th>14073</th>\n",
       "      <td>police</td>\n",
       "      <td>0.015420</td>\n",
       "    </tr>\n",
       "    <tr>\n",
       "      <th>20382</th>\n",
       "      <td>year</td>\n",
       "      <td>0.014377</td>\n",
       "    </tr>\n",
       "    <tr>\n",
       "      <th>16346</th>\n",
       "      <td>salman</td>\n",
       "      <td>0.014192</td>\n",
       "    </tr>\n",
       "    <tr>\n",
       "      <th>17081</th>\n",
       "      <td>shutdown</td>\n",
       "      <td>0.014045</td>\n",
       "    </tr>\n",
       "    <tr>\n",
       "      <th>12702</th>\n",
       "      <td>new</td>\n",
       "      <td>0.013993</td>\n",
       "    </tr>\n",
       "    <tr>\n",
       "      <th>3280</th>\n",
       "      <td>business</td>\n",
       "      <td>0.013980</td>\n",
       "    </tr>\n",
       "    <tr>\n",
       "      <th>7198</th>\n",
       "      <td>film</td>\n",
       "      <td>0.013915</td>\n",
       "    </tr>\n",
       "    <tr>\n",
       "      <th>4051</th>\n",
       "      <td>city</td>\n",
       "      <td>0.013846</td>\n",
       "    </tr>\n",
       "    <tr>\n",
       "      <th>450</th>\n",
       "      <td>2017</td>\n",
       "      <td>0.013575</td>\n",
       "    </tr>\n",
       "    <tr>\n",
       "      <th>...</th>\n",
       "      <td>...</td>\n",
       "      <td>...</td>\n",
       "    </tr>\n",
       "    <tr>\n",
       "      <th>14145</th>\n",
       "      <td>politics boil</td>\n",
       "      <td>0.000319</td>\n",
       "    </tr>\n",
       "    <tr>\n",
       "      <th>14146</th>\n",
       "      <td>politics boil violence</td>\n",
       "      <td>0.000319</td>\n",
       "    </tr>\n",
       "    <tr>\n",
       "      <th>3593</th>\n",
       "      <td>caste workers disrupt</td>\n",
       "      <td>0.000319</td>\n",
       "    </tr>\n",
       "    <tr>\n",
       "      <th>14147</th>\n",
       "      <td>politics maharashtra</td>\n",
       "      <td>0.000319</td>\n",
       "    </tr>\n",
       "    <tr>\n",
       "      <th>14148</th>\n",
       "      <td>politics maharashtra homeland</td>\n",
       "      <td>0.000319</td>\n",
       "    </tr>\n",
       "    <tr>\n",
       "      <th>14206</th>\n",
       "      <td>posted</td>\n",
       "      <td>0.000319</td>\n",
       "    </tr>\n",
       "    <tr>\n",
       "      <th>14207</th>\n",
       "      <td>posted 2018</td>\n",
       "      <td>0.000319</td>\n",
       "    </tr>\n",
       "    <tr>\n",
       "      <th>14208</th>\n",
       "      <td>posted 2018 01</td>\n",
       "      <td>0.000319</td>\n",
       "    </tr>\n",
       "    <tr>\n",
       "      <th>10828</th>\n",
       "      <td>led nda government</td>\n",
       "      <td>0.000319</td>\n",
       "    </tr>\n",
       "    <tr>\n",
       "      <th>10827</th>\n",
       "      <td>led nda</td>\n",
       "      <td>0.000319</td>\n",
       "    </tr>\n",
       "    <tr>\n",
       "      <th>20196</th>\n",
       "      <td>winter session parliament</td>\n",
       "      <td>0.000319</td>\n",
       "    </tr>\n",
       "    <tr>\n",
       "      <th>8357</th>\n",
       "      <td>haerther http www</td>\n",
       "      <td>0.000319</td>\n",
       "    </tr>\n",
       "    <tr>\n",
       "      <th>8356</th>\n",
       "      <td>haerther http</td>\n",
       "      <td>0.000319</td>\n",
       "    </tr>\n",
       "    <tr>\n",
       "      <th>115</th>\n",
       "      <td>09 pm</td>\n",
       "      <td>0.000319</td>\n",
       "    </tr>\n",
       "    <tr>\n",
       "      <th>3566</th>\n",
       "      <td>caste dalits took</td>\n",
       "      <td>0.000319</td>\n",
       "    </tr>\n",
       "    <tr>\n",
       "      <th>10899</th>\n",
       "      <td>life mumbai</td>\n",
       "      <td>0.000319</td>\n",
       "    </tr>\n",
       "    <tr>\n",
       "      <th>5799</th>\n",
       "      <td>dftba</td>\n",
       "      <td>0.000319</td>\n",
       "    </tr>\n",
       "    <tr>\n",
       "      <th>5791</th>\n",
       "      <td>developed youtube hundreds</td>\n",
       "      <td>0.000319</td>\n",
       "    </tr>\n",
       "    <tr>\n",
       "      <th>5790</th>\n",
       "      <td>developed youtube</td>\n",
       "      <td>0.000319</td>\n",
       "    </tr>\n",
       "    <tr>\n",
       "      <th>116</th>\n",
       "      <td>09 pm ist</td>\n",
       "      <td>0.000319</td>\n",
       "    </tr>\n",
       "    <tr>\n",
       "      <th>3560</th>\n",
       "      <td>caste clash criticizing</td>\n",
       "      <td>0.000319</td>\n",
       "    </tr>\n",
       "    <tr>\n",
       "      <th>18466</th>\n",
       "      <td>thumbnail joe cieplinski</td>\n",
       "      <td>0.000319</td>\n",
       "    </tr>\n",
       "    <tr>\n",
       "      <th>3578</th>\n",
       "      <td>caste protests india</td>\n",
       "      <td>0.000319</td>\n",
       "    </tr>\n",
       "    <tr>\n",
       "      <th>18465</th>\n",
       "      <td>thumbnail joe</td>\n",
       "      <td>0.000319</td>\n",
       "    </tr>\n",
       "    <tr>\n",
       "      <th>18464</th>\n",
       "      <td>thumbnail</td>\n",
       "      <td>0.000319</td>\n",
       "    </tr>\n",
       "    <tr>\n",
       "      <th>2321</th>\n",
       "      <td>baba</td>\n",
       "      <td>0.000319</td>\n",
       "    </tr>\n",
       "    <tr>\n",
       "      <th>2322</th>\n",
       "      <td>baba maharashtra</td>\n",
       "      <td>0.000319</td>\n",
       "    </tr>\n",
       "    <tr>\n",
       "      <th>2323</th>\n",
       "      <td>baba maharashtra caste</td>\n",
       "      <td>0.000319</td>\n",
       "    </tr>\n",
       "    <tr>\n",
       "      <th>3577</th>\n",
       "      <td>caste protests</td>\n",
       "      <td>0.000319</td>\n",
       "    </tr>\n",
       "    <tr>\n",
       "      <th>4001</th>\n",
       "      <td>cieplinski http joecieplinski</td>\n",
       "      <td>0.000319</td>\n",
       "    </tr>\n",
       "  </tbody>\n",
       "</table>\n",
       "<p>20608 rows × 2 columns</p>\n",
       "</div>"
      ],
      "text/plain": [
       "                       feature_names    scores\n",
       "11274                    maharashtra  0.032738\n",
       "12234                         mumbai  0.030058\n",
       "9226                           india  0.024359\n",
       "5205                           dalit  0.024349\n",
       "16204                           said  0.024323\n",
       "4908                              cr  0.022689\n",
       "16033                             rs  0.021690\n",
       "7983                      government  0.020548\n",
       "17560                          state  0.020025\n",
       "5270                          dalits  0.019671\n",
       "3338                          called  0.019257\n",
       "14843                           pune  0.018644\n",
       "9405                          indian  0.017595\n",
       "12763                           news  0.017134\n",
       "2363                           bandh  0.017051\n",
       "19641                       violence  0.016953\n",
       "505                             2018  0.016481\n",
       "3554                           caste  0.016177\n",
       "5378                             day  0.015966\n",
       "10009                        january  0.015877\n",
       "5034                           crore  0.015875\n",
       "14073                         police  0.015420\n",
       "20382                           year  0.014377\n",
       "16346                         salman  0.014192\n",
       "17081                       shutdown  0.014045\n",
       "12702                            new  0.013993\n",
       "3280                        business  0.013980\n",
       "7198                            film  0.013915\n",
       "4051                            city  0.013846\n",
       "450                             2017  0.013575\n",
       "...                              ...       ...\n",
       "14145                  politics boil  0.000319\n",
       "14146         politics boil violence  0.000319\n",
       "3593           caste workers disrupt  0.000319\n",
       "14147           politics maharashtra  0.000319\n",
       "14148  politics maharashtra homeland  0.000319\n",
       "14206                         posted  0.000319\n",
       "14207                    posted 2018  0.000319\n",
       "14208                 posted 2018 01  0.000319\n",
       "10828             led nda government  0.000319\n",
       "10827                        led nda  0.000319\n",
       "20196      winter session parliament  0.000319\n",
       "8357               haerther http www  0.000319\n",
       "8356                   haerther http  0.000319\n",
       "115                            09 pm  0.000319\n",
       "3566               caste dalits took  0.000319\n",
       "10899                    life mumbai  0.000319\n",
       "5799                           dftba  0.000319\n",
       "5791      developed youtube hundreds  0.000319\n",
       "5790               developed youtube  0.000319\n",
       "116                        09 pm ist  0.000319\n",
       "3560         caste clash criticizing  0.000319\n",
       "18466       thumbnail joe cieplinski  0.000319\n",
       "3578            caste protests india  0.000319\n",
       "18465                  thumbnail joe  0.000319\n",
       "18464                      thumbnail  0.000319\n",
       "2321                            baba  0.000319\n",
       "2322                baba maharashtra  0.000319\n",
       "2323          baba maharashtra caste  0.000319\n",
       "3577                  caste protests  0.000319\n",
       "4001   cieplinski http joecieplinski  0.000319\n",
       "\n",
       "[20608 rows x 2 columns]"
      ]
     },
     "execution_count": 10,
     "metadata": {},
     "output_type": "execute_result"
    }
   ],
   "source": [
    "get_tfidf_keywords(data_sentiment_blog['text'].tolist())"
   ]
  },
  {
   "cell_type": "markdown",
   "metadata": {},
   "source": [
    "#### keywords from news"
   ]
  },
  {
   "cell_type": "code",
   "execution_count": 11,
   "metadata": {
    "ExecuteTime": {
     "end_time": "2018-01-05T16:23:55.705764Z",
     "start_time": "2018-01-05T16:23:55.411869Z"
    }
   },
   "outputs": [
    {
     "data": {
      "text/html": [
       "<div>\n",
       "<style scoped>\n",
       "    .dataframe tbody tr th:only-of-type {\n",
       "        vertical-align: middle;\n",
       "    }\n",
       "\n",
       "    .dataframe tbody tr th {\n",
       "        vertical-align: top;\n",
       "    }\n",
       "\n",
       "    .dataframe thead th {\n",
       "        text-align: right;\n",
       "    }\n",
       "</style>\n",
       "<table border=\"1\" class=\"dataframe\">\n",
       "  <thead>\n",
       "    <tr style=\"text-align: right;\">\n",
       "      <th></th>\n",
       "      <th>feature_names</th>\n",
       "      <th>scores</th>\n",
       "    </tr>\n",
       "  </thead>\n",
       "  <tbody>\n",
       "    <tr>\n",
       "      <th>21796</th>\n",
       "      <td>maharashtra</td>\n",
       "      <td>0.030248</td>\n",
       "    </tr>\n",
       "    <tr>\n",
       "      <th>24039</th>\n",
       "      <td>mumbai</td>\n",
       "      <td>0.027951</td>\n",
       "    </tr>\n",
       "    <tr>\n",
       "      <th>40258</th>\n",
       "      <td>violence</td>\n",
       "      <td>0.026216</td>\n",
       "    </tr>\n",
       "    <tr>\n",
       "      <th>20272</th>\n",
       "      <td>koregaon</td>\n",
       "      <td>0.025874</td>\n",
       "    </tr>\n",
       "    <tr>\n",
       "      <th>32719</th>\n",
       "      <td>said</td>\n",
       "      <td>0.025662</td>\n",
       "    </tr>\n",
       "    <tr>\n",
       "      <th>5290</th>\n",
       "      <td>bhima</td>\n",
       "      <td>0.024533</td>\n",
       "    </tr>\n",
       "    <tr>\n",
       "      <th>10269</th>\n",
       "      <td>dalit</td>\n",
       "      <td>0.023629</td>\n",
       "    </tr>\n",
       "    <tr>\n",
       "      <th>29749</th>\n",
       "      <td>pune</td>\n",
       "      <td>0.021919</td>\n",
       "    </tr>\n",
       "    <tr>\n",
       "      <th>5320</th>\n",
       "      <td>bhima koregaon</td>\n",
       "      <td>0.021520</td>\n",
       "    </tr>\n",
       "    <tr>\n",
       "      <th>17930</th>\n",
       "      <td>india</td>\n",
       "      <td>0.021297</td>\n",
       "    </tr>\n",
       "    <tr>\n",
       "      <th>28002</th>\n",
       "      <td>police</td>\n",
       "      <td>0.020009</td>\n",
       "    </tr>\n",
       "    <tr>\n",
       "      <th>2921</th>\n",
       "      <td>ambedkar</td>\n",
       "      <td>0.019547</td>\n",
       "    </tr>\n",
       "    <tr>\n",
       "      <th>10441</th>\n",
       "      <td>dalits</td>\n",
       "      <td>0.018087</td>\n",
       "    </tr>\n",
       "    <tr>\n",
       "      <th>35814</th>\n",
       "      <td>state</td>\n",
       "      <td>0.017962</td>\n",
       "    </tr>\n",
       "    <tr>\n",
       "      <th>4537</th>\n",
       "      <td>bandh</td>\n",
       "      <td>0.017361</td>\n",
       "    </tr>\n",
       "    <tr>\n",
       "      <th>34032</th>\n",
       "      <td>services</td>\n",
       "      <td>0.016949</td>\n",
       "    </tr>\n",
       "    <tr>\n",
       "      <th>7201</th>\n",
       "      <td>caste</td>\n",
       "      <td>0.015614</td>\n",
       "    </tr>\n",
       "    <tr>\n",
       "      <th>2605</th>\n",
       "      <td>airport</td>\n",
       "      <td>0.015060</td>\n",
       "    </tr>\n",
       "    <tr>\n",
       "      <th>6688</th>\n",
       "      <td>called</td>\n",
       "      <td>0.014773</td>\n",
       "    </tr>\n",
       "    <tr>\n",
       "      <th>29443</th>\n",
       "      <td>protests</td>\n",
       "      <td>0.014671</td>\n",
       "    </tr>\n",
       "    <tr>\n",
       "      <th>38117</th>\n",
       "      <td>today</td>\n",
       "      <td>0.014297</td>\n",
       "    </tr>\n",
       "    <tr>\n",
       "      <th>4897</th>\n",
       "      <td>battle</td>\n",
       "      <td>0.013895</td>\n",
       "    </tr>\n",
       "    <tr>\n",
       "      <th>15586</th>\n",
       "      <td>government</td>\n",
       "      <td>0.013751</td>\n",
       "    </tr>\n",
       "    <tr>\n",
       "      <th>19297</th>\n",
       "      <td>january</td>\n",
       "      <td>0.013750</td>\n",
       "    </tr>\n",
       "    <tr>\n",
       "      <th>6513</th>\n",
       "      <td>buses</td>\n",
       "      <td>0.013304</td>\n",
       "    </tr>\n",
       "    <tr>\n",
       "      <th>29186</th>\n",
       "      <td>protest</td>\n",
       "      <td>0.013286</td>\n",
       "    </tr>\n",
       "    <tr>\n",
       "      <th>15913</th>\n",
       "      <td>groups</td>\n",
       "      <td>0.013219</td>\n",
       "    </tr>\n",
       "    <tr>\n",
       "      <th>21807</th>\n",
       "      <td>maharashtra bandh</td>\n",
       "      <td>0.013017</td>\n",
       "    </tr>\n",
       "    <tr>\n",
       "      <th>30202</th>\n",
       "      <td>railway</td>\n",
       "      <td>0.012273</td>\n",
       "    </tr>\n",
       "    <tr>\n",
       "      <th>10724</th>\n",
       "      <td>day</td>\n",
       "      <td>0.012198</td>\n",
       "    </tr>\n",
       "    <tr>\n",
       "      <th>...</th>\n",
       "      <td>...</td>\n",
       "      <td>...</td>\n",
       "    </tr>\n",
       "    <tr>\n",
       "      <th>30841</th>\n",
       "      <td>reddy pmla case</td>\n",
       "      <td>0.000188</td>\n",
       "    </tr>\n",
       "    <tr>\n",
       "      <th>10006</th>\n",
       "      <td>crore foreign domestics</td>\n",
       "      <td>0.000188</td>\n",
       "    </tr>\n",
       "    <tr>\n",
       "      <th>32476</th>\n",
       "      <td>rules stride</td>\n",
       "      <td>0.000188</td>\n",
       "    </tr>\n",
       "    <tr>\n",
       "      <th>32477</th>\n",
       "      <td>rules stride rollout</td>\n",
       "      <td>0.000188</td>\n",
       "    </tr>\n",
       "    <tr>\n",
       "      <th>10005</th>\n",
       "      <td>crore foreign</td>\n",
       "      <td>0.000188</td>\n",
       "    </tr>\n",
       "    <tr>\n",
       "      <th>1477</th>\n",
       "      <td>54</td>\n",
       "      <td>0.000188</td>\n",
       "    </tr>\n",
       "    <tr>\n",
       "      <th>1478</th>\n",
       "      <td>54 pm</td>\n",
       "      <td>0.000188</td>\n",
       "    </tr>\n",
       "    <tr>\n",
       "      <th>9282</th>\n",
       "      <td>congress tmc wednesday</td>\n",
       "      <td>0.000188</td>\n",
       "    </tr>\n",
       "    <tr>\n",
       "      <th>41081</th>\n",
       "      <td>wednesday alleged bjp</td>\n",
       "      <td>0.000188</td>\n",
       "    </tr>\n",
       "    <tr>\n",
       "      <th>41110</th>\n",
       "      <td>wednesday face government</td>\n",
       "      <td>0.000188</td>\n",
       "    </tr>\n",
       "    <tr>\n",
       "      <th>41109</th>\n",
       "      <td>wednesday face</td>\n",
       "      <td>0.000188</td>\n",
       "    </tr>\n",
       "    <tr>\n",
       "      <th>17186</th>\n",
       "      <td>hospitals run far</td>\n",
       "      <td>0.000188</td>\n",
       "    </tr>\n",
       "    <tr>\n",
       "      <th>17185</th>\n",
       "      <td>hospitals run</td>\n",
       "      <td>0.000188</td>\n",
       "    </tr>\n",
       "    <tr>\n",
       "      <th>17184</th>\n",
       "      <td>hospitals delhi high</td>\n",
       "      <td>0.000188</td>\n",
       "    </tr>\n",
       "    <tr>\n",
       "      <th>17183</th>\n",
       "      <td>hospitals delhi</td>\n",
       "      <td>0.000188</td>\n",
       "    </tr>\n",
       "    <tr>\n",
       "      <th>14453</th>\n",
       "      <td>flights canceled</td>\n",
       "      <td>0.000188</td>\n",
       "    </tr>\n",
       "    <tr>\n",
       "      <th>14454</th>\n",
       "      <td>flights canceled 235</td>\n",
       "      <td>0.000188</td>\n",
       "    </tr>\n",
       "    <tr>\n",
       "      <th>14467</th>\n",
       "      <td>flights getting canceled</td>\n",
       "      <td>0.000188</td>\n",
       "    </tr>\n",
       "    <tr>\n",
       "      <th>41080</th>\n",
       "      <td>wednesday alleged</td>\n",
       "      <td>0.000188</td>\n",
       "    </tr>\n",
       "    <tr>\n",
       "      <th>9281</th>\n",
       "      <td>congress tmc</td>\n",
       "      <td>0.000188</td>\n",
       "    </tr>\n",
       "    <tr>\n",
       "      <th>41079</th>\n",
       "      <td>wednesday aim make</td>\n",
       "      <td>0.000188</td>\n",
       "    </tr>\n",
       "    <tr>\n",
       "      <th>41078</th>\n",
       "      <td>wednesday aim</td>\n",
       "      <td>0.000188</td>\n",
       "    </tr>\n",
       "    <tr>\n",
       "      <th>30872</th>\n",
       "      <td>reduction united nations</td>\n",
       "      <td>0.000188</td>\n",
       "    </tr>\n",
       "    <tr>\n",
       "      <th>1479</th>\n",
       "      <td>54 pm ist</td>\n",
       "      <td>0.000188</td>\n",
       "    </tr>\n",
       "    <tr>\n",
       "      <th>17170</th>\n",
       "      <td>hospital wrongly declaring</td>\n",
       "      <td>0.000188</td>\n",
       "    </tr>\n",
       "    <tr>\n",
       "      <th>17169</th>\n",
       "      <td>hospital wrongly</td>\n",
       "      <td>0.000188</td>\n",
       "    </tr>\n",
       "    <tr>\n",
       "      <th>17168</th>\n",
       "      <td>hospital ventilator died</td>\n",
       "      <td>0.000188</td>\n",
       "    </tr>\n",
       "    <tr>\n",
       "      <th>17167</th>\n",
       "      <td>hospital ventilator</td>\n",
       "      <td>0.000188</td>\n",
       "    </tr>\n",
       "    <tr>\n",
       "      <th>30871</th>\n",
       "      <td>reduction united</td>\n",
       "      <td>0.000188</td>\n",
       "    </tr>\n",
       "    <tr>\n",
       "      <th>19077</th>\n",
       "      <td>ist markets european</td>\n",
       "      <td>0.000188</td>\n",
       "    </tr>\n",
       "  </tbody>\n",
       "</table>\n",
       "<p>42301 rows × 2 columns</p>\n",
       "</div>"
      ],
      "text/plain": [
       "                    feature_names    scores\n",
       "21796                 maharashtra  0.030248\n",
       "24039                      mumbai  0.027951\n",
       "40258                    violence  0.026216\n",
       "20272                    koregaon  0.025874\n",
       "32719                        said  0.025662\n",
       "5290                        bhima  0.024533\n",
       "10269                       dalit  0.023629\n",
       "29749                        pune  0.021919\n",
       "5320               bhima koregaon  0.021520\n",
       "17930                       india  0.021297\n",
       "28002                      police  0.020009\n",
       "2921                     ambedkar  0.019547\n",
       "10441                      dalits  0.018087\n",
       "35814                       state  0.017962\n",
       "4537                        bandh  0.017361\n",
       "34032                    services  0.016949\n",
       "7201                        caste  0.015614\n",
       "2605                      airport  0.015060\n",
       "6688                       called  0.014773\n",
       "29443                    protests  0.014671\n",
       "38117                       today  0.014297\n",
       "4897                       battle  0.013895\n",
       "15586                  government  0.013751\n",
       "19297                     january  0.013750\n",
       "6513                        buses  0.013304\n",
       "29186                     protest  0.013286\n",
       "15913                      groups  0.013219\n",
       "21807           maharashtra bandh  0.013017\n",
       "30202                     railway  0.012273\n",
       "10724                         day  0.012198\n",
       "...                           ...       ...\n",
       "30841             reddy pmla case  0.000188\n",
       "10006     crore foreign domestics  0.000188\n",
       "32476                rules stride  0.000188\n",
       "32477        rules stride rollout  0.000188\n",
       "10005               crore foreign  0.000188\n",
       "1477                           54  0.000188\n",
       "1478                        54 pm  0.000188\n",
       "9282       congress tmc wednesday  0.000188\n",
       "41081       wednesday alleged bjp  0.000188\n",
       "41110   wednesday face government  0.000188\n",
       "41109              wednesday face  0.000188\n",
       "17186           hospitals run far  0.000188\n",
       "17185               hospitals run  0.000188\n",
       "17184        hospitals delhi high  0.000188\n",
       "17183             hospitals delhi  0.000188\n",
       "14453            flights canceled  0.000188\n",
       "14454        flights canceled 235  0.000188\n",
       "14467    flights getting canceled  0.000188\n",
       "41080           wednesday alleged  0.000188\n",
       "9281                 congress tmc  0.000188\n",
       "41079          wednesday aim make  0.000188\n",
       "41078               wednesday aim  0.000188\n",
       "30872    reduction united nations  0.000188\n",
       "1479                    54 pm ist  0.000188\n",
       "17170  hospital wrongly declaring  0.000188\n",
       "17169            hospital wrongly  0.000188\n",
       "17168    hospital ventilator died  0.000188\n",
       "17167         hospital ventilator  0.000188\n",
       "30871            reduction united  0.000188\n",
       "19077        ist markets european  0.000188\n",
       "\n",
       "[42301 rows x 2 columns]"
      ]
     },
     "execution_count": 11,
     "metadata": {},
     "output_type": "execute_result"
    }
   ],
   "source": [
    "get_tfidf_keywords(data_sentiment_news['text'].tolist())"
   ]
  },
  {
   "cell_type": "markdown",
   "metadata": {},
   "source": [
    "#### total number hits(news/blogs) w.r.t. time"
   ]
  },
  {
   "cell_type": "code",
   "execution_count": 8,
   "metadata": {
    "ExecuteTime": {
     "end_time": "2018-01-05T09:49:22.648772Z",
     "start_time": "2018-01-05T09:49:22.338614Z"
    }
   },
   "outputs": [
    {
     "data": {
      "text/plain": [
       "<matplotlib.axes._subplots.AxesSubplot at 0x7f474c03f630>"
      ]
     },
     "execution_count": 8,
     "metadata": {},
     "output_type": "execute_result"
    },
    {
     "data": {
      "image/png": "[encoded data removed]",
      "text/plain": [
       "<matplotlib.figure.Figure at 0x7f472ec44668>"
      ]
     },
     "metadata": {},
     "output_type": "display_data"
    }
   ],
   "source": [
    "total_hits=data_sentiment.pivot_table(columns='site_type',index='date'\\\n",
    "                   ,values='median_sentiment_level',aggfunc='count').fillna(0)\n",
    "total_hits.plot(figsize=(13,6),rot=90,lw=4,title='total hits')"
   ]
  },
  {
   "cell_type": "markdown",
   "metadata": {},
   "source": [
    "#### mean sentiment w.r.t. time"
   ]
  },
  {
   "cell_type": "code",
   "execution_count": 9,
   "metadata": {
    "ExecuteTime": {
     "end_time": "2018-01-05T09:49:29.951739Z",
     "start_time": "2018-01-05T09:49:29.647568Z"
    }
   },
   "outputs": [
    {
     "data": {
      "text/plain": [
       "<matplotlib.axes._subplots.AxesSubplot at 0x7f472ea08e48>"
      ]
     },
     "execution_count": 9,
     "metadata": {},
     "output_type": "execute_result"
    },
    {
     "data": {
      "image/png": "[encoded data removed]",
      "text/plain": [
       "<matplotlib.figure.Figure at 0x7f472ea49ac8>"
      ]
     },
     "metadata": {},
     "output_type": "display_data"
    }
   ],
   "source": [
    "sentiment_levels=data_sentiment.pivot_table(columns='site_type',index='date',\\\n",
    "                   values='median_sentiment_level',aggfunc='mean').fillna(0)\n",
    "sentiment_levels.plot(figsize=(13,6),rot=90,lw=4,title='Sentiment variation(mean)')"
   ]
  },
  {
   "cell_type": "code",
   "execution_count": 10,
   "metadata": {
    "ExecuteTime": {
     "end_time": "2018-01-05T09:49:34.905562Z",
     "start_time": "2018-01-05T09:49:34.540129Z"
    },
    "scrolled": true
   },
   "outputs": [
    {
     "data": {
      "text/plain": [
       "<matplotlib.axes._subplots.AxesSubplot at 0x7f472e99a320>"
      ]
     },
     "execution_count": 10,
     "metadata": {},
     "output_type": "execute_result"
    },
    {
     "data": {
      "image/png": "[encoded data removed]",
      "text/plain": [
       "<matplotlib.figure.Figure at 0x7f472ec7ad30>"
      ]
     },
     "metadata": {},
     "output_type": "display_data"
    }
   ],
   "source": [
    "sentiment_levels=data_sentiment.pivot_table(columns='site_type',index='date',\\\n",
    "                   values='median_sentiment_level',aggfunc='sum').fillna(0)\n",
    "sentiment_levels.plot(figsize=(13,6),rot=90,lw=4,title='Sentiment variation(sum)')"
   ]
  },
  {
   "cell_type": "markdown",
   "metadata": {},
   "source": [
    "#### sentiment description w.r.t. site types"
   ]
  },
  {
   "cell_type": "code",
   "execution_count": 5,
   "metadata": {
    "ExecuteTime": {
     "end_time": "2018-01-05T10:20:11.809385Z",
     "start_time": "2018-01-05T10:20:11.782351Z"
    },
    "scrolled": true
   },
   "outputs": [
    {
     "data": {
      "text/html": [
       "<div>\n",
       "<style scoped>\n",
       "    .dataframe tbody tr th:only-of-type {\n",
       "        vertical-align: middle;\n",
       "    }\n",
       "\n",
       "    .dataframe tbody tr th {\n",
       "        vertical-align: top;\n",
       "    }\n",
       "\n",
       "    .dataframe thead tr th {\n",
       "        text-align: left;\n",
       "    }\n",
       "\n",
       "    .dataframe thead tr:last-of-type th {\n",
       "        text-align: right;\n",
       "    }\n",
       "</style>\n",
       "<table border=\"1\" class=\"dataframe\">\n",
       "  <thead>\n",
       "    <tr>\n",
       "      <th></th>\n",
       "      <th colspan=\"5\" halign=\"left\">median_sentiment_level</th>\n",
       "    </tr>\n",
       "    <tr>\n",
       "      <th></th>\n",
       "      <th>mean</th>\n",
       "      <th>max</th>\n",
       "      <th>median</th>\n",
       "      <th>std</th>\n",
       "      <th>count</th>\n",
       "    </tr>\n",
       "    <tr>\n",
       "      <th>site_type</th>\n",
       "      <th></th>\n",
       "      <th></th>\n",
       "      <th></th>\n",
       "      <th></th>\n",
       "      <th></th>\n",
       "    </tr>\n",
       "  </thead>\n",
       "  <tbody>\n",
       "    <tr>\n",
       "      <th>blogs</th>\n",
       "      <td>-0.833333</td>\n",
       "      <td>2.0</td>\n",
       "      <td>0.0</td>\n",
       "      <td>1.828348</td>\n",
       "      <td>36</td>\n",
       "    </tr>\n",
       "    <tr>\n",
       "      <th>news</th>\n",
       "      <td>-1.464646</td>\n",
       "      <td>1.0</td>\n",
       "      <td>-1.0</td>\n",
       "      <td>2.155028</td>\n",
       "      <td>99</td>\n",
       "    </tr>\n",
       "  </tbody>\n",
       "</table>\n",
       "</div>"
      ],
      "text/plain": [
       "          median_sentiment_level                            \n",
       "                            mean  max median       std count\n",
       "site_type                                                   \n",
       "blogs                  -0.833333  2.0    0.0  1.828348    36\n",
       "news                   -1.464646  1.0   -1.0  2.155028    99"
      ]
     },
     "execution_count": 5,
     "metadata": {},
     "output_type": "execute_result"
    }
   ],
   "source": [
    "site_stat=data_sentiment.groupby('site_type').agg({'median_sentiment_level':['mean','max','median','std','count']})\n",
    "site_stat"
   ]
  },
  {
   "cell_type": "code",
   "execution_count": 11,
   "metadata": {
    "ExecuteTime": {
     "end_time": "2018-01-05T09:50:18.619091Z",
     "start_time": "2018-01-05T09:50:18.615481Z"
    },
    "collapsed": true
   },
   "outputs": [],
   "source": [
    "# #### mean sentiment w.r.t.  source\n",
    "# sent_source=data_sentiment.head(100).groupby(['site','site_type']).agg({'median_sentiment_level':'mean'})\n",
    "# sent_source.plot(kind='barh',figsize=(10,min(50,int(.5*sent_source.shape[0]))),lw=4,title='mean sentiment level')"
   ]
  },
  {
   "cell_type": "markdown",
   "metadata": {},
   "source": [
    "### summary from blog output"
   ]
  },
  {
   "cell_type": "markdown",
   "metadata": {},
   "source": [
    "#### getting  summarized text for each text"
   ]
  },
  {
   "cell_type": "code",
   "execution_count": 5,
   "metadata": {
    "ExecuteTime": {
     "end_time": "2018-01-05T12:06:52.913533Z",
     "start_time": "2018-01-05T12:05:59.847263Z"
    }
   },
   "outputs": [
    {
     "name": "stdout",
     "output_type": "stream",
     "text": [
      "The Battle of Koregaon was fought on January 1, 1818 between the British East India Company and the Peshwa faction of the Maratha Confederacy, at Koregaon Bhima. The Battle of Koregaon was fought on January 1, 1818 between the British East India Company and the Peshwa faction of the Maratha Confederacy, at Koregaon Bhima. The Battle of Koregaon was fought on January 1, 1818 between the British East India Company and the Peshwa faction of the Maratha Confederacy, at Koregaon Bhima. The Battle of Koregaon was fought on January 1, 1818 between the British East India Company and the Peshwa faction of the Maratha Confederacy, at Koregaon Bhima.\n"
     ]
    }
   ],
   "source": [
    "print(summarize_combined(data_sentiment['text'].tolist()))"
   ]
  },
  {
   "cell_type": "markdown",
   "metadata": {},
   "source": [
    "#### summary of news"
   ]
  },
  {
   "cell_type": "code",
   "execution_count": 8,
   "metadata": {
    "ExecuteTime": {
     "end_time": "2018-01-05T12:08:07.474944Z",
     "start_time": "2018-01-05T12:07:37.725289Z"
    },
    "scrolled": true
   },
   "outputs": [
    {
     "name": "stdout",
     "output_type": "stream",
     "text": [
      "The Battle of Koregaon was fought on January 1, 1818 between the British East India Company and the Peshwa faction of the Maratha Confederacy, at Koregaon Bhima. The Battle of Koregaon was fought on January 1, 1818 between the British East India Company and the Peshwa faction of the Maratha Confederacy, at Koregaon Bhima. The Battle of Koregaon was fought on January 1, 1818 between the British East India Company and the Peshwa faction of the Maratha Confederacy, at Koregaon Bhima. The Battle of Koregaon was fought on January 1, 1818 between the British East India Company and the Peshwa faction of the Maratha Confederacy, at Koregaon Bhima.\n"
     ]
    }
   ],
   "source": [
    "print(summarize_combined(data_sentiment_news['text'].tolist()))"
   ]
  },
  {
   "cell_type": "markdown",
   "metadata": {},
   "source": [
    "#### summary of blog"
   ]
  },
  {
   "cell_type": "code",
   "execution_count": 9,
   "metadata": {
    "ExecuteTime": {
     "end_time": "2018-01-05T12:08:19.809135Z",
     "start_time": "2018-01-05T12:08:15.975910Z"
    },
    "scrolled": true
   },
   "outputs": [
    {
     "name": "stdout",
     "output_type": "stream",
     "text": [
      "Unsubscribe Receive this alert as RSS feed Send Feedback Go Winter Session of Parliament: Congress\\'s Mallikarjun Kharge calls PM Modi \\'mauni baba\\' on Maharashtra caste clash Criticizing Prime Minister Narendra Modi on the issue of caste-based violence in Maharashtra, Congress' senior leader Mallikarjun Kharge, who is also the Leader of the Opposition in the Lok Sabha, alleged that \"anti-Dalit violence is increasing\" in the country under Modi-led NDA government. Here is our new sketch on different types of people that they become after the break up.... India's 'moonwalking' traffic cop turns heads published: 28 Dec 2017 India's 'moonwalking' traffic cop turns heads India's 'moonwalking' traffic cop turns heads published: 28 Dec 2017 views: 255 Traffic cop Ranjeet Singh\\'s Michael Jackson dance moves grab attention on the chaotic streets of Indore in India.... India's 'moonwalking' traffic cop turns heads published: 28 Dec 2017 views: 255 Traffic cop Ranjeet Singh\\'s Michael Jackson dance moves grab attention on the chaotic streets of Indore in India.... IndiaTV News Live | Gujarat & Himachal Election Results published: 16 Nov 2017 IndiaTV News Live | Gujarat & Himachal Election Results IndiaTV News Live | Gujarat & Himachal Election Results published: 16 Nov 2017 views: 4232963 Watch IndiaTV news LIVE for all the latest news on Politics, Sports, Entertainment and much more in Hindi. For More Videos Visit: http://www.indiatvnews.com/video Follow IndiaTV: Facebook: http://www.fb.com/indiatvnews | Twitter: http://twitter.com/indiatvnews Download IndiaTV News Apps: Android: https://goo.gl/30MHqS | iOS: https://goo.gl/7C5Epr Download IndiaTV Live TV Apps: Android: https://goo.gl/VqkMIa | iOS: https://goo.gl/4rzvVn देश -विदेश की ताजा खबरें पढ़ने के लिए क्लिक करें हमारी हिन्‍दी वेबसाइट : http://www.khabarindiatv.com बिजनेस जगत की ताजा हलचल और स्‍पेशल रिपोर्ट जानने के लिए क्लिक करें : http://www.indiatvpaisa.com SUBSCRIBE to IndiaTV Here: http://bit.ly/indiatv_sub... Lil Durk - India (Official Audio) published: 19 Oct 2017 Lil Durk - India (Official Audio) Lil Durk - India (Official Audio) published: 19 Oct 2017 views: 4182272 Listen to the official audio of \\\"India\\\" by Lil Durk Subscribe to Lil Durk\\'s official channel for exclusive music videos and behind the scenes looks: http://bit.ly/Subscribe-to-Durk More Lil Durk: https://fb.com/lildurk https://twitter.com/lildurk_ https://instagram.com/Imlildurk2x http://officiallildurk.com... Lil Durk - India (Official Audio) published: 19 Oct 2017 views: 4182272 Listen to the official audio of \\\"India\\\" by Lil Durk Subscribe to Lil Durk\\'s official channel for exclusive music videos and behind the scenes looks: http://bit.ly/Subscribe-to-Durk More Lil Durk: https://fb.com/lildurk https://twitter.com/lildurk_ https://instagram.com/Imlildurk2x http://officiallildurk.com... published: 05 Dec 2017 views: 31592 Build your website for 10% off by going to http://squarespace.com/wendover Subscribe to Half as Interesting (The other channel from Wendover Productions): https://www.youtube.com/halfasinteresting Check out my podcast with Brian from Real Engineering: https://itunes.apple.com/us/podcast/showmakers/id1224583218?mt=2 (iTunes link) https://www.youtube.com/channel/UC_10vJJqf2ZK0lWrb5BXAPg (YouTube link) Support Wendover Productions on Patreon: https://www.patreon.com/wendoverproductions Get a Wendover Productions t-shirt for $20: https://store.dftba.com/products/wendover-productions-shirt Youtube: http://www.YouTube.com/WendoverProductions Twitter: http://www.Twitter.com/WendoverPro Email: WendoverProductions@gmail.com Reddit: http://Reddit.com/r/WendoverProductions Animation by Josh Sherrington (https://www.youtube.com/heliosphere) Sound by Graham Haerther (http://www.Haerther.net) Thumbnail by Joe Cieplinski (http://joecieplinski.com/ Bandh throws life out of gear in Mumbai, Pune - The Indian Express The Indian ExpressBandh throws life out of gear in Mumbai, PuneThe Indian ExpressAcross the state, 30 people were arrested, 15 by Aurangabad (city) police and 13 by Pune (rural) cops, and 1,278 people detained under the Maharashtra (Bombay) Police Act. DNA 23 hours ago - India After generating tension in Mumbai, Pune and a few other cities in Maharashtra, the state-wide bandh, called by Dalit organisations to protest the violence post... Firstpost Members of the Dalit community shout slogans as they participate in a protest rally in Mumbai, January 3, 2018.\n"
     ]
    }
   ],
   "source": [
    "print(summarize_combined(data_sentiment_blog['text'].tolist()))"
   ]
  },
  {
   "cell_type": "markdown",
   "metadata": {},
   "source": [
    "## twitter  analysis"
   ]
  },
  {
   "cell_type": "markdown",
   "metadata": {},
   "source": [
    "### twitter stream analysis"
   ]
  },
  {
   "cell_type": "code",
   "execution_count": 6,
   "metadata": {
    "ExecuteTime": {
     "end_time": "2018-01-04T18:10:09.069006Z",
     "start_time": "2018-01-04T18:10:01.430677Z"
    }
   },
   "outputs": [
    {
     "name": "stdout",
     "output_type": "stream",
     "text": [
      "bounding box for India [97.39535869999999, 35.5087008, 68.1097, 6.4626999]\n",
      "406\n",
      "406\n"
     ]
    },
    {
     "data": {
      "text/html": [
       "<div>\n",
       "<style scoped>\n",
       "    .dataframe tbody tr th:only-of-type {\n",
       "        vertical-align: middle;\n",
       "    }\n",
       "\n",
       "    .dataframe tbody tr th {\n",
       "        vertical-align: top;\n",
       "    }\n",
       "\n",
       "    .dataframe thead th {\n",
       "        text-align: right;\n",
       "    }\n",
       "</style>\n",
       "<table border=\"1\" class=\"dataframe\">\n",
       "  <thead>\n",
       "    <tr style=\"text-align: right;\">\n",
       "      <th></th>\n",
       "      <th>0</th>\n",
       "    </tr>\n",
       "  </thead>\n",
       "  <tbody>\n",
       "    <tr>\n",
       "      <th>number of negative revies</th>\n",
       "      <td>3</td>\n",
       "    </tr>\n",
       "    <tr>\n",
       "      <th>number of neutral reviews</th>\n",
       "      <td>6</td>\n",
       "    </tr>\n",
       "    <tr>\n",
       "      <th>number of positive reviews</th>\n",
       "      <td>10</td>\n",
       "    </tr>\n",
       "    <tr>\n",
       "      <th>most negative sentiment</th>\n",
       "      <td>6    Totally counterproductive and idiotic pol...</td>\n",
       "    </tr>\n",
       "    <tr>\n",
       "      <th>most positive sentiment</th>\n",
       "      <td>10    @docpensive @narendramodi @AmitShah So i...</td>\n",
       "    </tr>\n",
       "  </tbody>\n",
       "</table>\n",
       "</div>"
      ],
      "text/plain": [
       "                                                                            0\n",
       "number of negative revies                                                   3\n",
       "number of neutral reviews                                                   6\n",
       "number of positive reviews                                                 10\n",
       "most negative sentiment     6    Totally counterproductive and idiotic pol...\n",
       "most positive sentiment     10    @docpensive @narendramodi @AmitShah So i..."
      ]
     },
     "execution_count": 6,
     "metadata": {},
     "output_type": "execute_result"
    },
    {
     "data": {
      "image/png": "[encoded data removed]",
      "text/plain": [
       "<matplotlib.figure.Figure at 0x7f8d089da518>"
      ]
     },
     "metadata": {},
     "output_type": "display_data"
    }
   ],
   "source": [
    "tweets_df=get_tweets(keywords=['modi', 'NDA', 'kejriwal', 'iot'], time_limit=5, location='India')\n",
    "\n",
    "tweets_df_word_li,tweet_stat=plot_twitter_stats(tweets_df)\n",
    "tweet_stat"
   ]
  },
  {
   "cell_type": "markdown",
   "metadata": {},
   "source": [
    "### twitter historical  data"
   ]
  },
  {
   "cell_type": "code",
   "execution_count": 2,
   "metadata": {
    "ExecuteTime": {
     "end_time": "2018-01-05T05:46:50.206710Z",
     "start_time": "2018-01-05T05:45:44.244334Z"
    },
    "scrolled": true
   },
   "outputs": [
    {
     "data": {
      "text/html": [
       "<div>\n",
       "<style scoped>\n",
       "    .dataframe tbody tr th:only-of-type {\n",
       "        vertical-align: middle;\n",
       "    }\n",
       "\n",
       "    .dataframe tbody tr th {\n",
       "        vertical-align: top;\n",
       "    }\n",
       "\n",
       "    .dataframe thead th {\n",
       "        text-align: right;\n",
       "    }\n",
       "</style>\n",
       "<table border=\"1\" class=\"dataframe\">\n",
       "  <thead>\n",
       "    <tr style=\"text-align: right;\">\n",
       "      <th></th>\n",
       "      <th>0</th>\n",
       "    </tr>\n",
       "  </thead>\n",
       "  <tbody>\n",
       "    <tr>\n",
       "      <th>number of negative revies</th>\n",
       "      <td>2208</td>\n",
       "    </tr>\n",
       "    <tr>\n",
       "      <th>number of neutral reviews</th>\n",
       "      <td>1943</td>\n",
       "    </tr>\n",
       "    <tr>\n",
       "      <th>number of positive reviews</th>\n",
       "      <td>4636</td>\n",
       "    </tr>\n",
       "    <tr>\n",
       "      <th>most negative sentiment</th>\n",
       "      <td>3453    VERY SAD TO SEE WICKED CONGRESS AND PR...</td>\n",
       "    </tr>\n",
       "    <tr>\n",
       "      <th>most positive sentiment</th>\n",
       "      <td>4363    @narendramodi Modi Jai my Indian pm to...</td>\n",
       "    </tr>\n",
       "  </tbody>\n",
       "</table>\n",
       "</div>"
      ],
      "text/plain": [
       "                                                                            0\n",
       "number of negative revies                                                2208\n",
       "number of neutral reviews                                                1943\n",
       "number of positive reviews                                               4636\n",
       "most negative sentiment     3453    VERY SAD TO SEE WICKED CONGRESS AND PR...\n",
       "most positive sentiment     4363    @narendramodi Modi Jai my Indian pm to..."
      ]
     },
     "execution_count": 2,
     "metadata": {},
     "output_type": "execute_result"
    },
    {
     "data": {
      "image/png": "[encoded data removed]",
      "text/plain": [
       "<matplotlib.figure.Figure at 0x7fb550aab080>"
      ]
     },
     "metadata": {},
     "output_type": "display_data"
    }
   ],
   "source": [
    "tweets_df=get_hist_tweets(q='modi', count=100, result_type='recent', location='bangalore', distance='100km', days=7)\n",
    "\n",
    "tweets_df_word_li,tweet_stat=plot_twitter_stats(tweets_df)\n",
    "tweet_stat"
   ]
  },
  {
   "cell_type": "code",
   "execution_count": null,
   "metadata": {
    "collapsed": true
   },
   "outputs": [],
   "source": []
  }
 ],
 "metadata": {
  "anaconda-cloud": {},
  "hide_input": false,
  "kernelspec": {
   "display_name": "Python [conda root]",
   "language": "python",
   "name": "conda-root-py"
  },
  "language_info": {
   "codemirror_mode": {
    "name": "ipython",
    "version": 3
   },
   "file_extension": ".py",
   "mimetype": "text/x-python",
   "name": "python",
   "nbconvert_exporter": "python",
   "pygments_lexer": "ipython3",
   "version": "3.5.4"
  },
  "latex_envs": {
   "LaTeX_envs_menu_present": true,
   "bibliofile": "biblio.bib",
   "cite_by": "apalike",
   "current_citInitial": 1,
   "eqLabelWithNumbers": true,
   "eqNumInitial": 1,
   "hotkeys": {
    "equation": "Ctrl-E",
    "itemize": "Ctrl-I"
   },
   "labels_anchors": false,
   "latex_user_defs": false,
   "report_style_numbering": false,
   "user_envs_cfg": false
  }
 },
 "nbformat": 4,
 "nbformat_minor": 2
}
